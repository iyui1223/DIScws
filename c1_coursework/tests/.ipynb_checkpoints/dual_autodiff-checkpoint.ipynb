{
 "cells": [
  {
   "cell_type": "markdown",
   "id": "d75fea39",
   "metadata": {},
   "source": [
    "# Performance Comparison: `dual_autodiff` vs `dual_autodiff_x`\n",
    "This notebook benchmarks and compares the performance of `dual_autodiff` (non-Cythonized) and `dual_autodiff_x` (Cythonized) packages.\n",
    "\n",
    "## Metrics\n",
    "- **Execution Time**: Time taken for key operations.\n",
    "- **Memory Usage**: Memory footprint during operations.\n",
    "\n",
    "## Methodology\n",
    "- Use a suite of Dual class operations for consistent testing.\n",
    "- Compare results using Python's `timeit` and `memory-profiler` libraries."
   ]
  },
  {
   "cell_type": "code",
   "execution_count": 2,
   "id": "381810e1",
   "metadata": {
    "tags": []
   },
   "outputs": [
    {
     "ename": "ImportError",
     "evalue": "cannot import name 'Dual' from 'dual_autodiff_x.dual_autodiff_x' (/home/yi260/gitlab/DIScws/c1_coursework/dual_autodiff_x/dual_autodiff_x/__init__.py)",
     "output_type": "error",
     "traceback": [
      "\u001b[0;31m---------------------------------------------------------------------------\u001b[0m",
      "\u001b[0;31mImportError\u001b[0m                               Traceback (most recent call last)",
      "Cell \u001b[0;32mIn[2], line 8\u001b[0m\n\u001b[1;32m      6\u001b[0m \u001b[38;5;66;03m# Import Dual class from both packages\u001b[39;00m\n\u001b[1;32m      7\u001b[0m \u001b[38;5;28;01mfrom\u001b[39;00m \u001b[38;5;21;01mdual_autodiff\u001b[39;00m\u001b[38;5;21;01m.\u001b[39;00m\u001b[38;5;21;01mdual\u001b[39;00m \u001b[38;5;28;01mimport\u001b[39;00m Dual \u001b[38;5;28;01mas\u001b[39;00m DualRegular\n\u001b[0;32m----> 8\u001b[0m \u001b[38;5;28;01mfrom\u001b[39;00m \u001b[38;5;21;01mdual_autodiff_x\u001b[39;00m\u001b[38;5;21;01m.\u001b[39;00m\u001b[38;5;21;01mdual_autodiff_x\u001b[39;00m \u001b[38;5;28;01mimport\u001b[39;00m Dual \u001b[38;5;28;01mas\u001b[39;00m DualCython\n",
      "\u001b[0;31mImportError\u001b[0m: cannot import name 'Dual' from 'dual_autodiff_x.dual_autodiff_x' (/home/yi260/gitlab/DIScws/c1_coursework/dual_autodiff_x/dual_autodiff_x/__init__.py)"
     ]
    }
   ],
   "source": [
    "# Imports for performance and memory profiling\n",
    "import math\n",
    "from memory_profiler import memory_usage\n",
    "from timeit import timeit\n",
    "\n",
    "# Import Dual class from both packages\n",
    "from dual_autodiff.dual import Dual as DualRegular\n",
    "from dual_autodiff_x.dual_autodiff_x.dual import Dual as DualCython\n"
   ]
  },
  {
   "cell_type": "markdown",
   "id": "86ba907b",
   "metadata": {},
   "source": [
    "## Define Test Suite\n",
    "We use the same operations for both `dual_autodiff` and `dual_autodiff_x`."
   ]
  },
  {
   "cell_type": "code",
   "execution_count": null,
   "id": "b1438bb3",
   "metadata": {},
   "outputs": [],
   "source": [
    "def run_operations(Dual):\n",
    "    d1 = Dual(2, 3)\n",
    "    d2 = Dual(4, 5)\n",
    "\n",
    "    # Basic arithmetic\n",
    "    d1 + d2\n",
    "    d1 - d2\n",
    "    d1 * d2\n",
    "    d1 / d2\n",
    "\n",
    "    # Trigonometric functions\n",
    "    d3 = Dual(math.pi / 4, 1)\n",
    "    d3.sin()\n",
    "    d3.cos()\n",
    "    d3.tan()\n",
    "\n",
    "    # Logarithmic and exponential\n",
    "    d4 = Dual(2, 1)\n",
    "    d4.log()\n",
    "    d4.exp()\n"
   ]
  },
  {
   "cell_type": "markdown",
   "id": "53b9e210",
   "metadata": {},
   "source": [
    "## Measure Execution Time\n",
    "Using Python's `timeit` module to measure performance."
   ]
  },
  {
   "cell_type": "code",
   "execution_count": null,
   "id": "7b52314a",
   "metadata": {},
   "outputs": [],
   "source": [
    "# Measure execution time for regular package\n",
    "time_regular = timeit(lambda: run_operations(DualRegular), number=1000)\n",
    "print(f\"Execution time (dual_autodiff): {time_regular:.4f} seconds\")\n",
    "\n",
    "# Measure execution time for Cythonized package\n",
    "time_cython = timeit(lambda: run_operations(DualCython), number=1000)\n",
    "print(f\"Execution time (dual_autodiff_x): {time_cython:.4f} seconds\")"
   ]
  },
  {
   "cell_type": "markdown",
   "id": "3fe1d171",
   "metadata": {},
   "source": [
    "## Measure Memory Usage\n",
    "Using `memory_profiler` to measure memory consumption."
   ]
  },
  {
   "cell_type": "code",
   "execution_count": null,
   "id": "a71bebd5",
   "metadata": {},
   "outputs": [],
   "source": [
    "def memory_test(Dual):\n",
    "    def wrapper():\n",
    "        run_operations(Dual)\n",
    "    return memory_usage(wrapper, interval=0.1, timeout=1)\n",
    "\n",
    "# Measure memory usage for regular package\n",
    "memory_regular = memory_test(DualRegular)\n",
    "print(f\"Peak memory usage (dual_autodiff): {max(memory_regular):.2f} MB\")\n",
    "\n",
    "# Measure memory usage for Cythonized package\n",
    "memory_cython = memory_test(DualCython)\n",
    "print(f\"Peak memory usage (dual_autodiff_x): {max(memory_cython):.2f} MB\")"
   ]
  },
  {
   "cell_type": "markdown",
   "id": "b0165396",
   "metadata": {},
   "source": [
    "## Compare Results\n",
    "Summarize the performance comparison between the two implementations."
   ]
  },
  {
   "cell_type": "code",
   "execution_count": null,
   "id": "6e1177c3",
   "metadata": {},
   "outputs": [],
   "source": [
    "print(\"Performance Comparison Summary:\")\n",
    "print(f\"Execution Time - dual_autodiff: {time_regular:.4f}s\")\n",
    "print(f\"Execution Time - dual_autodiff_x: {time_cython:.4f}s\")\n",
    "print(f\"Memory Usage - dual_autodiff: {max(memory_regular):.2f} MB\")\n",
    "print(f\"Memory Usage - dual_autodiff_x: {max(memory_cython):.2f} MB\")"
   ]
  }
 ],
 "metadata": {
  "kernelspec": {
   "display_name": "Python 3 (ipykernel)",
   "language": "python",
   "name": "python3"
  },
  "language_info": {
   "codemirror_mode": {
    "name": "ipython",
    "version": 3
   },
   "file_extension": ".py",
   "mimetype": "text/x-python",
   "name": "python",
   "nbconvert_exporter": "python",
   "pygments_lexer": "ipython3",
   "version": "3.8.17"
  }
 },
 "nbformat": 4,
 "nbformat_minor": 5
}
