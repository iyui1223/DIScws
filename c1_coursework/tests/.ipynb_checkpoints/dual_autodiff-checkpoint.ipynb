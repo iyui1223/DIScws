{
 "cells": [
  {
   "cell_type": "markdown",
   "id": "d75fea39",
   "metadata": {},
   "source": [
    "# Performance Comparison: `dual_autodiff` vs `dual_autodiff_x`\n",
    "This notebook benchmarks and compares the performance of `dual_autodiff` (non-Cythonized) and `dual_autodiff_x` (Cythonized) packages.\n",
    "\n",
    "## Metrics\n",
    "- **Execution Time**: Time taken for key operations.\n",
    "- **Memory Usage**: Memory footprint during operations.\n",
    "\n",
    "## Methodology\n",
    "- Use a suite of Dual class operations for consistent testing.\n",
    "- Compare results using Python's `timeit` and `memory-profiler` libraries."
   ]
  },
  {
   "cell_type": "code",
   "execution_count": 8,
   "id": "381810e1",
   "metadata": {
    "tags": []
   },
   "outputs": [],
   "source": [
    "# Imports for performance and memory profiling\n",
    "import math\n",
    "from memory_profiler import memory_usage\n",
    "from timeit import timeit\n",
    "\n",
    "# Import Dual class from both packages\n",
    "from dual_autodiff.dual import Dual as DualRegular\n",
    "from dual_autodiff_x.dual_autodiff_x.dual import Dual as DualCython # Needs to be pre-compiled\n"
   ]
  },
  {
   "cell_type": "markdown",
   "id": "86ba907b",
   "metadata": {},
   "source": [
    "## Define Test Suite\n",
    "Prepare operations."
   ]
  },
  {
   "cell_type": "code",
   "execution_count": 9,
   "id": "b1438bb3",
   "metadata": {},
   "outputs": [],
   "source": [
    "def run_operations(Dual, repetitions=1000):\n",
    "    for _ in range(repetitions):\n",
    "        d1 = Dual(2, 3)\n",
    "        d2 = Dual(4, 5)\n",
    "    \n",
    "        # Basic arithmetic\n",
    "        d1 + d2\n",
    "        d1 - d2\n",
    "        d1 * d2\n",
    "        d1 / d2\n",
    "    \n",
    "        # Trigonometric functions\n",
    "        d3 = Dual(math.pi / 4, 1)\n",
    "        d3.sin()\n",
    "        d3.cos()\n",
    "        d3.tan()\n",
    "    \n",
    "        # Logarithmic and exponential\n",
    "        d4 = Dual(2, 1)\n",
    "        d4.log()\n",
    "        d4.exp()\n"
   ]
  },
  {
   "cell_type": "markdown",
   "id": "53b9e210",
   "metadata": {},
   "source": [
    "## Measure Execution Time\n",
    "Using Python's `timeit` module to measure performance."
   ]
  },
  {
   "cell_type": "code",
   "execution_count": 24,
   "id": "7b52314a",
   "metadata": {},
   "outputs": [
    {
     "name": "stdout",
     "output_type": "stream",
     "text": [
      "Execution time (dual_autodiff): 4.6319 seconds\n",
      "Execution time (dual_autodiff_x): 1.5272 seconds\n"
     ]
    }
   ],
   "source": [
    "# Regular package\n",
    "time_regular = timeit(lambda: run_operations(DualRegular, repetitions=10000), number=10)\n",
    "print(f\"Execution time (dual_autodiff): {time_regular:.4f} seconds\")\n",
    "\n",
    "# Cythonized package\n",
    "time_cython = timeit(lambda: run_operations(DualCython, repetitions=10000), number=10)\n",
    "print(f\"Execution time (dual_autodiff_x): {time_cython:.4f} seconds\")"
   ]
  },
  {
   "cell_type": "markdown",
   "id": "3fe1d171",
   "metadata": {},
   "source": [
    "## Measure Memory Usage\n",
    "Using `memory_profiler` to measure memory consumption."
   ]
  },
  {
   "cell_type": "code",
   "execution_count": 23,
   "id": "a71bebd5",
   "metadata": {
    "scrolled": true
   },
   "outputs": [
    {
     "name": "stdout",
     "output_type": "stream",
     "text": [
      "Peak memory usage (dual_autodiff): 71.49 MB\n",
      "Peak memory usage (dual_autodiff_x): 71.58 MB\n"
     ]
    }
   ],
   "source": [
    "def memory_test(Dual):\n",
    "    def wrapper():\n",
    "        run_operations(Dual)\n",
    "    return memory_usage(wrapper, interval=0.1, timeout=1)\n",
    "\n",
    "# Measure memory usage for regular package\n",
    "memory_regular = memory_test(DualRegular)\n",
    "print(f\"Peak memory usage (dual_autodiff): {max(memory_regular):.2f} MB\")\n",
    "\n",
    "# Measure memory usage for Cythonized package\n",
    "memory_cython = memory_test(DualCython)\n",
    "print(f\"Peak memory usage (dual_autodiff_x): {max(memory_cython):.2f} MB\")"
   ]
  },
  {
   "cell_type": "markdown",
   "id": "279c9c10-e695-4f9f-b3c8-fa57f44fa601",
   "metadata": {},
   "source": [
    "## Profiling\n",
    "Using prun magic command, break down the root reason of difference in execution time. "
   ]
  },
  {
   "cell_type": "code",
   "execution_count": 18,
   "id": "47f7f9bd-f156-4ba4-80ad-b1c29b6989d6",
   "metadata": {},
   "outputs": [
    {
     "name": "stdout",
     "output_type": "stream",
     "text": [
      "Profiling DualRegular (10000 repetitions):\n",
      " "
     ]
    },
    {
     "data": {
      "text/plain": [
       "         310004 function calls in 0.122 seconds\n",
       "\n",
       "   Ordered by: internal time\n",
       "\n",
       "   ncalls  tottime  percall  cumtime  percall filename:lineno(function)\n",
       "        1    0.037    0.037    0.122    0.122 2278539239.py:1(run_operations)\n",
       "   130000    0.020    0.000    0.020    0.000 dual.py:6(__init__)\n",
       "    10000    0.010    0.000    0.014    0.000 dual.py:50(tan)\n",
       "    10000    0.008    0.000    0.011    0.000 dual.py:36(sin)\n",
       "    10000    0.007    0.000    0.009    0.000 dual.py:28(__truediv__)\n",
       "    10000    0.007    0.000    0.010    0.000 dual.py:43(cos)\n",
       "    10000    0.006    0.000    0.009    0.000 dual.py:59(log)\n",
       "    10000    0.005    0.000    0.008    0.000 dual.py:68(exp)\n",
       "    10000    0.005    0.000    0.006    0.000 dual.py:21(__mul__)\n",
       "    10000    0.004    0.000    0.006    0.000 dual.py:13(__add__)\n",
       "    10000    0.004    0.000    0.005    0.000 dual.py:17(__sub__)\n",
       "    40000    0.003    0.000    0.003    0.000 {built-in method math.cos}\n",
       "    20000    0.002    0.000    0.002    0.000 {built-in method math.sin}\n",
       "    10000    0.002    0.000    0.002    0.000 {built-in method math.log}\n",
       "    10000    0.001    0.000    0.001    0.000 {built-in method math.exp}\n",
       "    10000    0.001    0.000    0.001    0.000 {built-in method math.tan}\n",
       "        1    0.000    0.000    0.122    0.122 {built-in method builtins.exec}\n",
       "        1    0.000    0.000    0.122    0.122 <string>:1(<module>)\n",
       "        1    0.000    0.000    0.000    0.000 {method 'disable' of '_lsprof.Profiler' objects}"
      ]
     },
     "metadata": {},
     "output_type": "display_data"
    }
   ],
   "source": [
    "# Profiling the regular package\n",
    "print(\"Profiling DualRegular (10000 repetitions):\")\n",
    "%prun run_operations(DualRegular, repetitions=10000)"
   ]
  },
  {
   "cell_type": "code",
   "execution_count": 19,
   "id": "a6b43f50-4d79-4372-bdb6-f9ff689b6aa7",
   "metadata": {},
   "outputs": [
    {
     "name": "stdout",
     "output_type": "stream",
     "text": [
      "Profiling DualCython (10000 repetitions):\n",
      " "
     ]
    },
    {
     "data": {
      "text/plain": [
       "         4 function calls in 0.034 seconds\n",
       "\n",
       "   Ordered by: internal time\n",
       "\n",
       "   ncalls  tottime  percall  cumtime  percall filename:lineno(function)\n",
       "        1    0.034    0.034    0.034    0.034 2278539239.py:1(run_operations)\n",
       "        1    0.000    0.000    0.034    0.034 {built-in method builtins.exec}\n",
       "        1    0.000    0.000    0.034    0.034 <string>:1(<module>)\n",
       "        1    0.000    0.000    0.000    0.000 {method 'disable' of '_lsprof.Profiler' objects}"
      ]
     },
     "metadata": {},
     "output_type": "display_data"
    }
   ],
   "source": [
    "# Profiling the cythonized package\n",
    "print(\"Profiling DualCython (10000 repetitions):\")\n",
    "%prun run_operations(DualCython, repetitions=10000)"
   ]
  },
  {
   "cell_type": "markdown",
   "id": "b0165396",
   "metadata": {},
   "source": [
    "## Compare Results\n",
    "Summarize the performance comparison between the two implementations."
   ]
  },
  {
   "cell_type": "code",
   "execution_count": 7,
   "id": "6e1177c3",
   "metadata": {},
   "outputs": [
    {
     "name": "stdout",
     "output_type": "stream",
     "text": [
      "Performance Comparison Summary:\n",
      "Execution Time - dual_autodiff: 0.0112s\n",
      "Execution Time - dual_autodiff_x: 0.0066s\n",
      "Memory Usage - dual_autodiff: 65.07 MB\n",
      "Memory Usage - dual_autodiff_x: 65.07 MB\n"
     ]
    }
   ],
   "source": [
    "print(\"Performance Comparison Summary:\")\n",
    "print(f\"Execution Time - dual_autodiff: {time_regular:.4f}s\")\n",
    "print(f\"Execution Time - dual_autodiff_x: {time_cython:.4f}s\")\n",
    "print(f\"Memory Usage - dual_autodiff: {max(memory_regular):.2f} MB\")\n",
    "print(f\"Memory Usage - dual_autodiff_x: {max(memory_cython):.2f} MB\")"
   ]
  },
  {
   "cell_type": "code",
   "execution_count": null,
   "id": "71af9178-2688-47b9-af37-75eb0aa3b439",
   "metadata": {},
   "outputs": [],
   "source": []
  }
 ],
 "metadata": {
  "kernelspec": {
   "display_name": "Python 3 (ipykernel)",
   "language": "python",
   "name": "python3"
  },
  "language_info": {
   "codemirror_mode": {
    "name": "ipython",
    "version": 3
   },
   "file_extension": ".py",
   "mimetype": "text/x-python",
   "name": "python",
   "nbconvert_exporter": "python",
   "pygments_lexer": "ipython3",
   "version": "3.8.17"
  }
 },
 "nbformat": 4,
 "nbformat_minor": 5
}
